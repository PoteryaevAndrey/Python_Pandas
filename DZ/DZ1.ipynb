{
 "cells": [
  {
   "cell_type": "code",
   "execution_count": null,
   "metadata": {},
   "outputs": [],
   "source": []
  },
  {
   "attachments": {},
   "cell_type": "markdown",
   "metadata": {},
   "source": [
    "# Домашнее задание 1   \n",
    "## Задача 1  \n",
    "> Оформляйте ноутбук, используя эти советы:  \n",
    ">- Номер задачи - заголовок 2  \n",
    ">- Номер подзадачи - заголовок 3  \n",
    ">- Предоставленные наборы данных оформляйте, как код  \n",
    "## Задача 2  \n",
    "> На складе лежат разные фрукты в разном количестве.  \n",
    ">- Нужно написать функцию, которая на вход принимает любое количество названий фруктов и их количество, а возвращает общее количество фруктов на складе  \n",
    "### 1. С именноваными аргументами  "
   ]
  },
  {
   "cell_type": "code",
   "execution_count": 1,
   "metadata": {},
   "outputs": [
    {
     "name": "stdout",
     "output_type": "stream",
     "text": [
      "0\n",
      "3\n",
      "20\n"
     ]
    }
   ],
   "source": [
    "def sum_products(banana: int = 0, lemon: int = 0, orange: int = 0) -> int:\n",
    "    return banana + lemon + orange\n",
    "\n",
    "\n",
    "print(sum_products())\n",
    "print(sum_products(banana=3))\n",
    "print(sum_products(lemon=7, banana=8, orange=5))\n"
   ]
  },
  {
   "attachments": {},
   "cell_type": "markdown",
   "metadata": {},
   "source": [
    "### 2. Со словарем"
   ]
  },
  {
   "cell_type": "code",
   "execution_count": 2,
   "metadata": {},
   "outputs": [
    {
     "name": "stdout",
     "output_type": "stream",
     "text": [
      "0\n",
      "3\n",
      "20\n"
     ]
    }
   ],
   "source": [
    "def sum_products2(**kwarg) -> int:\n",
    "    return sum(kwarg.values())\n",
    "\n",
    "\n",
    "print(sum_products2())\n",
    "print(sum_products2(banana=3))\n",
    "print(sum_products2(lemon=7, banana=8, orange=5))\n"
   ]
  },
  {
   "attachments": {},
   "cell_type": "markdown",
   "metadata": {},
   "source": [
    "## Задача 3  \n",
    "> Дан список с затратами на рекламу. Но в данных есть ошибки, некоторые затраты имеют отрицательную величину. Удалите такие значения из списка и посчитайте суммарные затраты  \n",
    ">- [100, 125, -90, 345, 655, -1, 0, 200]  \n",
    ">- Используйте list comprehensions  "
   ]
  },
  {
   "cell_type": "code",
   "execution_count": 3,
   "metadata": {},
   "outputs": [
    {
     "name": "stdout",
     "output_type": "stream",
     "text": [
      "1425\n"
     ]
    }
   ],
   "source": [
    "data = [100, 125, -90, 345, 655, -1, 0, 200]\n",
    "print(sum([i if i > 0 else 0 for i in data]))\n"
   ]
  },
  {
   "attachments": {},
   "cell_type": "markdown",
   "metadata": {},
   "source": [
    "## Задача 4  \n",
    "> Даны два списка.   \n",
    ">  \n",
    "> Дата покупки  \n",
    ">- ['2021-09-14', '2021-12-15', '2021-09-08', '2021-12-05', '2021-10-09', '2021-09-30', '2021-12-22', '2021-11-29', '2021-12-24', '2021-11-26', '2021-10-27', '2021-12-18', '2021-11-09', '2021-11-23', '2021-09-27', '2021-10-02', '2021-12-27', '2021-09-20', '2021-12-13', '2021-11-01', '2021-11-09', '2021-12-06', '2021-12-08', '2021-10-09', '2021-10-31', '2021-09-30', '2021-11-09', '2021-12-13', '2021-10-26', '2021-12-09'] \n",
    ">   \n",
    "> Суммы покупок по датам  \n",
    ">- [1270, 8413, 9028, 3703, 5739, 4095, 295, 4944, 5723, 3701, 4471, 651, 7037, 4274, 6275, 4988, 6930, 2971, 6592, 2004, 2822, 519, 3406, 2732, 5015, 2008, 316, 6333, 5700, 2887]  \n",
    "\n",
    "> Найдите  \n",
    ">1. какая выручка у компании в ноябре (Используйте list comprehensions)  \n",
    ">2. Найдите выручку компании в зависимости от месяца  \n",
    "   >- Для этого напишите функцию, которая на вход принимает список с датами и список с выручкой, а на выходе словарь, где ключи - это месяцы, а значения - это выручка.\n",
    "   >- Используйте аннотирование типов."
   ]
  },
  {
   "cell_type": "code",
   "execution_count": 4,
   "metadata": {},
   "outputs": [],
   "source": [
    "date = ['2021-09-14', '2021-12-15', '2021-09-08', '2021-12-05', '2021-10-09', '2021-09-30', '2021-12-22',\n",
    "        '2021-11-29', '2021-12-24', '2021-11-26', '2021-10-27', '2021-12-18', '2021-11-09', '2021-11-23',\n",
    "        '2021-09-27', '2021-10-02', '2021-12-27', '2021-09-20', '2021-12-13', '2021-11-01', '2021-11-09',\n",
    "        '2021-12-06', '2021-12-08', '2021-10-09', '2021-10-31', '2021-09-30', '2021-11-09', '2021-12-13',\n",
    "        '2021-10-26', '2021-12-09']\n",
    "receipt = [1270, 8413, 9028, 3703, 5739, 4095, 295, 4944, 5723, 3701, 4471, 651, 7037, 4274, 6275,\n",
    "           4988, 6930, 2971, 6592, 2004, 2822, 519, 3406, 2732, 5015, 2008, 316, 6333, 5700, 2887]\n"
   ]
  },
  {
   "attachments": {},
   "cell_type": "markdown",
   "metadata": {},
   "source": [
    "### 1. Какая выручка у компании в ноябре"
   ]
  },
  {
   "cell_type": "code",
   "execution_count": 5,
   "metadata": {},
   "outputs": [
    {
     "data": {
      "text/plain": [
       "25098"
      ]
     },
     "execution_count": 5,
     "metadata": {},
     "output_type": "execute_result"
    }
   ],
   "source": [
    "sum([receipt[i] for i in range(len(receipt)) if date[i].split('-')[1] == '11'])"
   ]
  },
  {
   "attachments": {},
   "cell_type": "markdown",
   "metadata": {},
   "source": [
    "### 2. Найдите выручку компании в зависимости от месяца\n",
    "\n",
    "#### а) Вариант 1"
   ]
  },
  {
   "cell_type": "code",
   "execution_count": 6,
   "metadata": {},
   "outputs": [
    {
     "name": "stdout",
     "output_type": "stream",
     "text": [
      "{'Сентябрь': 25647, 'Декабрь': 45452, 'Октябрь': 28645, 'Ноябрь': 25098}\n"
     ]
    }
   ],
   "source": [
    "def revenue(data: list, rec: list) -> dict:\n",
    "    out = dict()\n",
    "    month = {'09': 'Сентябрь', '12': 'Декабрь',\n",
    "             '10': 'Октябрь', '11': 'Ноябрь'}\n",
    "    for i in range(len(data)):\n",
    "        if month[(key := data[i].split('-')[1])] in out.keys():\n",
    "            out[month[key]] += rec[i]\n",
    "        else:\n",
    "            out[month[key]] = rec[i]\n",
    "    return out\n",
    "\n",
    "\n",
    "print(revenue(date, receipt))\n"
   ]
  },
  {
   "attachments": {},
   "cell_type": "markdown",
   "metadata": {},
   "source": [
    "#### б) Вариант 2"
   ]
  },
  {
   "cell_type": "code",
   "execution_count": 7,
   "metadata": {},
   "outputs": [
    {
     "name": "stdout",
     "output_type": "stream",
     "text": [
      "{'Сентябрь': 25647, 'Декабрь': 45452, 'Октябрь': 28645, 'Ноябрь': 25098}\n"
     ]
    }
   ],
   "source": [
    "def revenue2(data: list, rec: list) -> dict:\n",
    "    out = dict()\n",
    "    month = {'09': 'Сентябрь', '10': 'Октябрь',\n",
    "             '11': 'Ноябрь', '12': 'Декабрь'}\n",
    "    for i in range(len(data)):\n",
    "        key = data[i].split('-')[1]\n",
    "        out[month[key]] = out.get(month[key], 0) + rec[i]\n",
    "    return out\n",
    "\n",
    "\n",
    "print(revenue2(date, receipt))\n"
   ]
  },
  {
   "cell_type": "code",
   "execution_count": null,
   "metadata": {},
   "outputs": [],
   "source": [
    "\n"
   ]
  }
 ],
 "metadata": {
  "kernelspec": {
   "display_name": "Python 3",
   "language": "python",
   "name": "python3"
  },
  "language_info": {
   "codemirror_mode": {
    "name": "ipython",
    "version": 3
   },
   "file_extension": ".py",
   "mimetype": "text/x-python",
   "name": "python",
   "nbconvert_exporter": "python",
   "pygments_lexer": "ipython3",
   "version": "3.11.1"
  },
  "orig_nbformat": 4,
  "vscode": {
   "interpreter": {
    "hash": "867b719568835d2758971036323f4589e1a00f73e0a167b563d81825d1a5986e"
   }
  }
 },
 "nbformat": 4,
 "nbformat_minor": 2
}
